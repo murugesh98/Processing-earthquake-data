{
 "cells": [
  {
   "cell_type": "markdown",
   "metadata": {},
   "source": [
    "Geographic data in Datalab\n",
    "This notebook demonstrates how to use Datalab to display the earthquakes that have happened over the past 7 days. The data come from USGS, and we will use the Python module basemap to do the plotting.\n",
    "\n",
    "Install basemap\n",
    "Datalab does not come pre-installed with basemap. So, let's use apt-get to install basemap. Note that once you install a package, you have to restart the Python kernel, which you do by clicking on \"Reset Session\" in the top-menu.\n"
   ]
  },
  {
   "cell_type": "code",
   "execution_count": null,
   "metadata": {},
   "outputs": [],
   "source": [
    "%bash\n",
    "echo 'Y' | apt-get install python-mpltoolkits.basemap"
   ]
  },
  {
   "cell_type": "code",
   "execution_count": null,
   "metadata": {},
   "outputs": [],
   "source": [
    "import csv\n",
    "import urllib2\n",
    "import cStringIO\n",
    "import numpy as np\n",
    "import matplotlib as mpl\n",
    "import matplotlib.pyplot as plt\n",
    "from mpl_toolkits.basemap import Basemap"
   ]
  },
  {
   "cell_type": "markdown",
   "metadata": {},
   "source": [
    "Declare classes to hold data\n",
    "We'll store the latitude, longitude, magnitude and timestamp of each earthquake and get the data itself from a one-week file that USGS keeps up-to-date. So, each time you run this, you will get a similarly formatted file but the most up-to-date list of earthquakes."
   ]
  },
  {
   "cell_type": "code",
   "execution_count": null,
   "metadata": {},
   "outputs": [],
   "source": [
    "class EarthQuake:\n",
    "  def __init__(self, row):\n",
    "    # Parse earthquake data from USGS\n",
    "    self.timestamp = row[0]\n",
    "    self.lat = float(row[1])\n",
    "    self.lon = float(row[2])\n",
    "    try:\n",
    "      self.magnitude = float(row[4])\n",
    "    except ValueError:\n",
    "      self.magnitude = 0\n",
    "    \n",
    "def get_earthquake_data(url):\n",
    "  # Read CSV earthquake data from USGS\n",
    "  response = urllib2.urlopen(url)\n",
    "  csvio = cStringIO.StringIO(response.read())\n",
    "  reader = csv.reader(csvio)\n",
    "  header = next(reader)\n",
    "  quakes = [EarthQuake(row) for row in reader]\n",
    "  quakes = [q for q in quakes if q.magnitude > 0]\n",
    "  return quakes\n",
    "  \n",
    "quakes = get_earthquake_data('http://earthquake.usgs.gov/earthquakes/feed/v1.0/summary/all_week.csv')\n",
    "print quakes[0].__dict__"
   ]
  },
  {
   "cell_type": "code",
   "execution_count": null,
   "metadata": {},
   "outputs": [],
   "source": [
    "{'lat': 33.7578333, 'timestamp': '2016-03-19T19:02:26.270Z', 'magnitude': 0.84, 'lon': -117.5111667}\n",
    "Plot the quakes\n",
    "Let's now use Basemap to display the downloaded data. First thing is to set up the projection and view. To display the earthquake data, we'll use small circles that are sized and colored based on magnitude."
   ]
  },
  {
   "cell_type": "code",
   "execution_count": null,
   "metadata": {},
   "outputs": [],
   "source": []
  }
 ],
 "metadata": {
  "kernelspec": {
   "display_name": "Python 3",
   "language": "python",
   "name": "python3"
  },
  "language_info": {
   "codemirror_mode": {
    "name": "ipython",
    "version": 3
   },
   "file_extension": ".py",
   "mimetype": "text/x-python",
   "name": "python",
   "nbconvert_exporter": "python",
   "pygments_lexer": "ipython3",
   "version": "3.7.3"
  }
 },
 "nbformat": 4,
 "nbformat_minor": 2
}
